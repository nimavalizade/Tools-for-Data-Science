{
 "cells": [
  {
   "cell_type": "markdown",
   "id": "4cbc04d4",
   "metadata": {},
   "source": [
    "# My Jupyter Notebook on IBM Watson Studio"
   ]
  },
  {
   "cell_type": "markdown",
   "id": "73c37eb9",
   "metadata": {},
   "source": [
    "**Nima Valizade**\n",
    "\n",
    "Ph.D. student"
   ]
  },
  {
   "cell_type": "markdown",
   "id": "1168dacf",
   "metadata": {},
   "source": [
    "*I am interested in data science because I would be able to use it in my future career. Also, it would be useful as well in my Ph.D. thesis.*"
   ]
  },
  {
   "cell_type": "markdown",
   "id": "64087ca4",
   "metadata": {},
   "source": [
    "### The code is going to calculate the summation of 1 and 2."
   ]
  },
  {
   "cell_type": "code",
   "execution_count": 1,
   "id": "9fa2ee77",
   "metadata": {},
   "outputs": [
    {
     "data": {
      "text/plain": [
       "3"
      ]
     },
     "execution_count": 1,
     "metadata": {},
     "output_type": "execute_result"
    }
   ],
   "source": [
    "1+2"
   ]
  },
  {
   "cell_type": "markdown",
   "id": "755863f9",
   "metadata": {},
   "source": [
    "- \"John\"\n",
    "- \"Alex\"\n",
    "- \"Fred\"\n",
    "\n",
    "https://www.google.com/\n",
    "\n",
    "~strikethrough~"
   ]
  },
  {
   "cell_type": "code",
   "execution_count": null,
   "id": "55d99a1d",
   "metadata": {},
   "outputs": [],
   "source": []
  }
 ],
 "metadata": {
  "kernelspec": {
   "display_name": "Python 3 (ipykernel)",
   "language": "python",
   "name": "python3"
  },
  "language_info": {
   "codemirror_mode": {
    "name": "ipython",
    "version": 3
   },
   "file_extension": ".py",
   "mimetype": "text/x-python",
   "name": "python",
   "nbconvert_exporter": "python",
   "pygments_lexer": "ipython3",
   "version": "3.9.12"
  }
 },
 "nbformat": 4,
 "nbformat_minor": 5
}
